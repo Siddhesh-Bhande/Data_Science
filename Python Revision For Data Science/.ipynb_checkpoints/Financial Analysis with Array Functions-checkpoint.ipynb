{
 "cells": [
  {
   "cell_type": "code",
   "execution_count": 54,
   "metadata": {},
   "outputs": [],
   "source": [
    "#Data \n",
    "revenue = [14574.49, 7606.46, 8611.41, 9175.41, 8058.65, 8105.44, 11496.28, 9766.09, 10305.32, 14379.96, 10713.97, 15433.50]\n",
    "expenses = [12051.82, 5695.07, 12319.20, 12089.72, 8658.57, 840.20, 3285.73, 5821.12, 6976.93, 16618.61, 10054.37, 3803.96]"
   ]
  },
  {
   "cell_type": "code",
   "execution_count": 55,
   "metadata": {},
   "outputs": [],
   "source": [
    "import numpy as np"
   ]
  },
  {
   "cell_type": "code",
   "execution_count": 58,
   "metadata": {},
   "outputs": [],
   "source": [
    "#declaring variables\n",
    "profitList = []\n",
    "profitAfterTaxList = []\n",
    "profitMarginList = []\n",
    "goodMonths = []\n",
    "BadMonths = []"
   ]
  },
  {
   "cell_type": "code",
   "execution_count": 60,
   "metadata": {},
   "outputs": [
    {
     "name": "stdout",
     "output_type": "stream",
     "text": [
      "**************Annual Financial Report**************\n",
      "Month  |  Profit  |  ProfitPostTax  |  Profit Margin\n",
      "  1    |  2522.67  |  -1849.68  |  -12.69\n",
      "  2    |  1911.39  |  -370.55  |  -4.87\n",
      "  3    |  -3707.79  |  -6291.21  |  -73.06\n",
      "  4    |  -2914.31  |  -5666.93  |  -61.76\n",
      "  5    |  -599.92  |  -3017.52  |  -37.44\n",
      "  6    |  7265.24  |  4833.61  |  59.63\n",
      "  7    |  8210.55  |  4761.67  |  41.42\n",
      "  8    |  3944.97  |  1015.14  |  10.39\n",
      "  9    |  3328.39  |  236.79  |  2.3\n",
      "  10    |  -2238.65  |  -6552.64  |  -45.57\n",
      "  11    |  659.6  |  -2554.59  |  -23.84\n",
      "  12    |  11629.54  |  6999.49  |  45.35\n",
      "----------------------------------------------\n",
      "Good Months:  [2, 6, 7, 8, 9, 12, 2, 6, 7, 8, 9, 12]\n",
      "Bad Months:   [1, 3, 4, 5, 10, 11, 1, 3, 4, 5, 10, 11]\n",
      "Worst Month:  10\n",
      "Best Month:   12\n",
      "----------------------------------------------\n"
     ]
    }
   ],
   "source": [
    "#final program\n",
    "for i in range(12):\n",
    "    profitList.append(round((revenue[i]-expenses[i]),2))\n",
    "    profitAfterTaxList.append(round((((revenue[i])*0.7)-expenses[i]),2))\n",
    "    profitMarginList.append(round((profitAfterTaxList[i]/revenue[i])*100,2))\n",
    "    \n",
    "meanProfit = np.array(profitAfterTaxList).mean()\n",
    "\n",
    "for i in range(12):\n",
    "    if(profitAfterTaxList[i] > meanProfit):\n",
    "        goodMonths.append(i+1)\n",
    "    else:\n",
    "        BadMonths.append(i+1)\n",
    "        \n",
    "bestMonth = profitAfterTaxList.index(max(profitAfterTaxList))+1\n",
    "worstMonth = profitAfterTaxList.index(min(profitAfterTaxList))+1\n",
    "\n",
    "print(\"**************Annual Financial Report**************\")\n",
    "print(\"Month  |  Profit  |  ProfitPostTax  |  Profit Margin\")\n",
    "for i in range(12):\n",
    "    print(\" \",i+1,\"   | \",profitList[i],\" | \",profitAfterTaxList[i],\" | \",profitMarginList[i])\n",
    "print(\"----------------------------------------------\")\n",
    "print(\"Good Months: \",goodMonths)\n",
    "print(\"Bad Months:  \",BadMonths)\n",
    "print(\"Worst Month: \",worstMonth)\n",
    "print(\"Best Month:  \",bestMonth)\n",
    "print(\"----------------------------------------------\")"
   ]
  },
  {
   "cell_type": "code",
   "execution_count": null,
   "metadata": {},
   "outputs": [],
   "source": []
  }
 ],
 "metadata": {
  "kernelspec": {
   "display_name": "Python 3",
   "language": "python",
   "name": "python3"
  },
  "language_info": {
   "codemirror_mode": {
    "name": "ipython",
    "version": 3
   },
   "file_extension": ".py",
   "mimetype": "text/x-python",
   "name": "python",
   "nbconvert_exporter": "python",
   "pygments_lexer": "ipython3",
   "version": "3.7.4"
  }
 },
 "nbformat": 4,
 "nbformat_minor": 2
}
